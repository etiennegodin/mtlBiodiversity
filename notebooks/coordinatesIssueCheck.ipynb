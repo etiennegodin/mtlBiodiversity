{
 "cells": [
  {
   "cell_type": "code",
   "execution_count": 4,
   "id": "bcb142a6",
   "metadata": {},
   "outputs": [],
   "source": [
    "import duckdb\n",
    "file = \"C:/Users/manat/Documents/Projects/mtlBiodiversity/data/db/mtlbio.duckdb\"\n",
    "import pandas as pd\n",
    "import seaborn as sns\n",
    "import matplotlib.pyplot as plt\n",
    "import numpy as np \n"
   ]
  },
  {
   "cell_type": "code",
   "execution_count": 5,
   "id": "8198e8d9",
   "metadata": {},
   "outputs": [],
   "source": [
    "con = duckdb.connect(file)\n",
    "df = con.execute(\"SELECT * from grid_sjoin\").df()\n",
    "\n",
    "#df.head()"
   ]
  },
  {
   "cell_type": "code",
   "execution_count": 6,
   "id": "04008781",
   "metadata": {},
   "outputs": [
    {
     "data": {
      "text/html": [
       "<div>\n",
       "<style scoped>\n",
       "    .dataframe tbody tr th:only-of-type {\n",
       "        vertical-align: middle;\n",
       "    }\n",
       "\n",
       "    .dataframe tbody tr th {\n",
       "        vertical-align: top;\n",
       "    }\n",
       "\n",
       "    .dataframe thead th {\n",
       "        text-align: right;\n",
       "    }\n",
       "</style>\n",
       "<table border=\"1\" class=\"dataframe\">\n",
       "  <thead>\n",
       "    <tr style=\"text-align: right;\">\n",
       "      <th></th>\n",
       "      <th>gbifID</th>\n",
       "      <th>occurrenceID</th>\n",
       "      <th>kingdom</th>\n",
       "      <th>phylum</th>\n",
       "      <th>class</th>\n",
       "      <th>order</th>\n",
       "      <th>family</th>\n",
       "      <th>genus</th>\n",
       "      <th>species</th>\n",
       "      <th>taxonRank</th>\n",
       "      <th>...</th>\n",
       "      <th>recordedBy</th>\n",
       "      <th>issue</th>\n",
       "      <th>publishingOrgKey</th>\n",
       "      <th>coordinateUncertaintyInMeters</th>\n",
       "      <th>grid_id</th>\n",
       "      <th>minx</th>\n",
       "      <th>miny</th>\n",
       "      <th>maxx</th>\n",
       "      <th>maxy</th>\n",
       "      <th>geom</th>\n",
       "    </tr>\n",
       "  </thead>\n",
       "  <tbody>\n",
       "    <tr>\n",
       "      <th>0</th>\n",
       "      <td>3998494771</td>\n",
       "      <td>q-10688069538</td>\n",
       "      <td>Plantae</td>\n",
       "      <td>Tracheophyta</td>\n",
       "      <td>Magnoliopsida</td>\n",
       "      <td>Apiales</td>\n",
       "      <td>Araliaceae</td>\n",
       "      <td>Aralia</td>\n",
       "      <td>Aralia racemosa</td>\n",
       "      <td>SPECIES</td>\n",
       "      <td>...</td>\n",
       "      <td>None</td>\n",
       "      <td>COORDINATE_ROUNDED;COUNTRY_DERIVED_FROM_COORDI...</td>\n",
       "      <td>da86174a-a605-43a4-a5e8-53d484152cd3</td>\n",
       "      <td>7.0</td>\n",
       "      <td>1098.0</td>\n",
       "      <td>-73.957862</td>\n",
       "      <td>45.430894</td>\n",
       "      <td>-73.955268</td>\n",
       "      <td>45.43247</td>\n",
       "      <td>[2, 4, 0, 0, 0, 0, 0, 0, 109, 234, 147, 194, 6...</td>\n",
       "    </tr>\n",
       "  </tbody>\n",
       "</table>\n",
       "<p>1 rows × 28 columns</p>\n",
       "</div>"
      ],
      "text/plain": [
       "       gbifID   occurrenceID  kingdom        phylum          class    order  \\\n",
       "0  3998494771  q-10688069538  Plantae  Tracheophyta  Magnoliopsida  Apiales   \n",
       "\n",
       "       family   genus          species taxonRank  ... recordedBy  \\\n",
       "0  Araliaceae  Aralia  Aralia racemosa   SPECIES  ...       None   \n",
       "\n",
       "                                               issue  \\\n",
       "0  COORDINATE_ROUNDED;COUNTRY_DERIVED_FROM_COORDI...   \n",
       "\n",
       "                       publishingOrgKey  coordinateUncertaintyInMeters  \\\n",
       "0  da86174a-a605-43a4-a5e8-53d484152cd3                            7.0   \n",
       "\n",
       "   grid_id       minx       miny       maxx      maxy  \\\n",
       "0   1098.0 -73.957862  45.430894 -73.955268  45.43247   \n",
       "\n",
       "                                                geom  \n",
       "0  [2, 4, 0, 0, 0, 0, 0, 0, 109, 234, 147, 194, 6...  \n",
       "\n",
       "[1 rows x 28 columns]"
      ]
     },
     "execution_count": 6,
     "metadata": {},
     "output_type": "execute_result"
    }
   ],
   "source": [
    "df.head(1)"
   ]
  },
  {
   "cell_type": "code",
   "execution_count": 7,
   "id": "51c8d7cd",
   "metadata": {},
   "outputs": [
    {
     "name": "stdout",
     "output_type": "stream",
     "text": [
      "['COORDINATE_ROUNDED;COUNTRY_DERIVED_FROM_COORDINATES;CONTINENT_DERIVED_FROM_COORDINATES'\n",
      " 'COUNTRY_DERIVED_FROM_COORDINATES;CONTINENT_DERIVED_FROM_COORDINATES'\n",
      " 'COORDINATE_ROUNDED;CONTINENT_DERIVED_FROM_COORDINATES;TAXON_ID_NOT_FOUND'\n",
      " 'CONTINENT_DERIVED_FROM_COORDINATES;TAXON_ID_NOT_FOUND'\n",
      " 'OCCURRENCE_STATUS_INFERRED_FROM_INDIVIDUAL_COUNT;COORDINATE_ROUNDED;CONTINENT_DERIVED_FROM_COORDINATES;TAXON_ID_NOT_FOUND'\n",
      " 'COORDINATE_ROUNDED;CONTINENT_DERIVED_FROM_COORDINATES;TAXON_ID_NOT_FOUND;TAXON_MATCH_HIGHERRANK'\n",
      " 'OCCURRENCE_STATUS_INFERRED_FROM_INDIVIDUAL_COUNT;CONTINENT_DERIVED_FROM_COORDINATES;TAXON_ID_NOT_FOUND'\n",
      " 'OCCURRENCE_STATUS_INFERRED_FROM_INDIVIDUAL_COUNT;COORDINATE_ROUNDED;CONTINENT_DERIVED_FROM_COORDINATES;TAXON_ID_NOT_FOUND;TAXON_MATCH_HIGHERRANK'\n",
      " 'OCCURRENCE_STATUS_INFERRED_FROM_INDIVIDUAL_COUNT;CONTINENT_DERIVED_FROM_COORDINATES;TAXON_ID_NOT_FOUND;TAXON_MATCH_HIGHERRANK'\n",
      " 'COORDINATE_ROUNDED;CONTINENT_DERIVED_FROM_COORDINATES;TAXON_ID_NOT_FOUND;TAXON_MATCH_FUZZY'\n",
      " 'COORDINATE_ROUNDED;CONTINENT_DERIVED_FROM_COORDINATES;TAXON_ID_NOT_FOUND;MULTIMEDIA_DATE_INVALID'\n",
      " 'CONTINENT_DERIVED_FROM_COORDINATES;TAXON_ID_NOT_FOUND;TAXON_MATCH_HIGHERRANK'\n",
      " 'CONTINENT_DERIVED_FROM_COORDINATES;TAXON_ID_NOT_FOUND;TAXON_MATCH_FUZZY'\n",
      " 'OCCURRENCE_STATUS_INFERRED_FROM_INDIVIDUAL_COUNT;COORDINATE_REPROJECTED;COORDINATE_ROUNDED;CONTINENT_DERIVED_FROM_COORDINATES;TAXON_ID_NOT_FOUND'\n",
      " 'OCCURRENCE_STATUS_INFERRED_FROM_INDIVIDUAL_COUNT;RECORDED_DATE_INVALID;CONTINENT_DERIVED_FROM_COORDINATES;TAXON_ID_NOT_FOUND']\n"
     ]
    }
   ],
   "source": [
    "orgs = df.issue.unique()\n",
    "print(orgs)"
   ]
  },
  {
   "cell_type": "code",
   "execution_count": 8,
   "id": "af66959a",
   "metadata": {},
   "outputs": [
    {
     "data": {
      "text/html": [
       "<div>\n",
       "<style scoped>\n",
       "    .dataframe tbody tr th:only-of-type {\n",
       "        vertical-align: middle;\n",
       "    }\n",
       "\n",
       "    .dataframe tbody tr th {\n",
       "        vertical-align: top;\n",
       "    }\n",
       "\n",
       "    .dataframe thead th {\n",
       "        text-align: right;\n",
       "    }\n",
       "</style>\n",
       "<table border=\"1\" class=\"dataframe\">\n",
       "  <thead>\n",
       "    <tr style=\"text-align: right;\">\n",
       "      <th></th>\n",
       "      <th>gbifID</th>\n",
       "      <th>occurrenceID</th>\n",
       "      <th>kingdom</th>\n",
       "      <th>phylum</th>\n",
       "      <th>class</th>\n",
       "      <th>order</th>\n",
       "      <th>family</th>\n",
       "      <th>genus</th>\n",
       "      <th>species</th>\n",
       "      <th>taxonRank</th>\n",
       "      <th>...</th>\n",
       "      <th>issue</th>\n",
       "      <th>publishingOrgKey</th>\n",
       "      <th>coordinateUncertaintyInMeters</th>\n",
       "      <th>grid_id</th>\n",
       "      <th>minx</th>\n",
       "      <th>miny</th>\n",
       "      <th>maxx</th>\n",
       "      <th>maxy</th>\n",
       "      <th>geom</th>\n",
       "      <th>orgs</th>\n",
       "    </tr>\n",
       "  </thead>\n",
       "  <tbody>\n",
       "    <tr>\n",
       "      <th>0</th>\n",
       "      <td>3998494771</td>\n",
       "      <td>q-10688069538</td>\n",
       "      <td>Plantae</td>\n",
       "      <td>Tracheophyta</td>\n",
       "      <td>Magnoliopsida</td>\n",
       "      <td>Apiales</td>\n",
       "      <td>Araliaceae</td>\n",
       "      <td>Aralia</td>\n",
       "      <td>Aralia racemosa</td>\n",
       "      <td>SPECIES</td>\n",
       "      <td>...</td>\n",
       "      <td>COORDINATE_ROUNDED;COUNTRY_DERIVED_FROM_COORDI...</td>\n",
       "      <td>da86174a-a605-43a4-a5e8-53d484152cd3</td>\n",
       "      <td>7.0</td>\n",
       "      <td>1098.0</td>\n",
       "      <td>-73.957862</td>\n",
       "      <td>45.430894</td>\n",
       "      <td>-73.955268</td>\n",
       "      <td>45.432470</td>\n",
       "      <td>[2, 4, 0, 0, 0, 0, 0, 0, 109, 234, 147, 194, 6...</td>\n",
       "      <td>plantNet</td>\n",
       "    </tr>\n",
       "    <tr>\n",
       "      <th>1</th>\n",
       "      <td>3960185358</td>\n",
       "      <td>q-10623459328</td>\n",
       "      <td>Plantae</td>\n",
       "      <td>Tracheophyta</td>\n",
       "      <td>Magnoliopsida</td>\n",
       "      <td>Rosales</td>\n",
       "      <td>Rhamnaceae</td>\n",
       "      <td>Rhamnus</td>\n",
       "      <td>Rhamnus cathartica</td>\n",
       "      <td>SPECIES</td>\n",
       "      <td>...</td>\n",
       "      <td>COORDINATE_ROUNDED;COUNTRY_DERIVED_FROM_COORDI...</td>\n",
       "      <td>da86174a-a605-43a4-a5e8-53d484152cd3</td>\n",
       "      <td>31.0</td>\n",
       "      <td>1277.0</td>\n",
       "      <td>-73.955917</td>\n",
       "      <td>45.441137</td>\n",
       "      <td>-73.953323</td>\n",
       "      <td>45.442713</td>\n",
       "      <td>[2, 4, 0, 0, 0, 0, 0, 0, 110, 233, 147, 194, 1...</td>\n",
       "      <td>plantNet</td>\n",
       "    </tr>\n",
       "  </tbody>\n",
       "</table>\n",
       "<p>2 rows × 29 columns</p>\n",
       "</div>"
      ],
      "text/plain": [
       "       gbifID   occurrenceID  kingdom        phylum          class    order  \\\n",
       "0  3998494771  q-10688069538  Plantae  Tracheophyta  Magnoliopsida  Apiales   \n",
       "1  3960185358  q-10623459328  Plantae  Tracheophyta  Magnoliopsida  Rosales   \n",
       "\n",
       "       family    genus             species taxonRank  ...  \\\n",
       "0  Araliaceae   Aralia     Aralia racemosa   SPECIES  ...   \n",
       "1  Rhamnaceae  Rhamnus  Rhamnus cathartica   SPECIES  ...   \n",
       "\n",
       "                                               issue  \\\n",
       "0  COORDINATE_ROUNDED;COUNTRY_DERIVED_FROM_COORDI...   \n",
       "1  COORDINATE_ROUNDED;COUNTRY_DERIVED_FROM_COORDI...   \n",
       "\n",
       "                       publishingOrgKey  coordinateUncertaintyInMeters  \\\n",
       "0  da86174a-a605-43a4-a5e8-53d484152cd3                            7.0   \n",
       "1  da86174a-a605-43a4-a5e8-53d484152cd3                           31.0   \n",
       "\n",
       "   grid_id       minx       miny       maxx       maxy  \\\n",
       "0   1098.0 -73.957862  45.430894 -73.955268  45.432470   \n",
       "1   1277.0 -73.955917  45.441137 -73.953323  45.442713   \n",
       "\n",
       "                                                geom      orgs  \n",
       "0  [2, 4, 0, 0, 0, 0, 0, 0, 109, 234, 147, 194, 6...  plantNet  \n",
       "1  [2, 4, 0, 0, 0, 0, 0, 0, 110, 233, 147, 194, 1...  plantNet  \n",
       "\n",
       "[2 rows x 29 columns]"
      ]
     },
     "execution_count": 8,
     "metadata": {},
     "output_type": "execute_result"
    }
   ],
   "source": [
    "\n",
    "orgs = df.publishingOrgKey.unique()\n",
    "#print(orgs)\n",
    "mapping = { 'da86174a-a605-43a4-a5e8-53d484152cd3': 'plantNet',\n",
    "            'b6d09100-919d-4026-b35b-22be3dae7156' : 'ebutterfly',\n",
    "            '28eb1a3f-1c15-4a95-931a-4af90ecb574d' : 'inat'\n",
    "    }\n",
    "df['orgs'] = df['publishingOrgKey'].map(mapping)\n",
    "df.head(2)"
   ]
  },
  {
   "cell_type": "code",
   "execution_count": 9,
   "id": "8e3c186f",
   "metadata": {},
   "outputs": [
    {
     "data": {
      "text/html": [
       "<div>\n",
       "<style scoped>\n",
       "    .dataframe tbody tr th:only-of-type {\n",
       "        vertical-align: middle;\n",
       "    }\n",
       "\n",
       "    .dataframe tbody tr th {\n",
       "        vertical-align: top;\n",
       "    }\n",
       "\n",
       "    .dataframe thead th {\n",
       "        text-align: right;\n",
       "    }\n",
       "</style>\n",
       "<table border=\"1\" class=\"dataframe\">\n",
       "  <thead>\n",
       "    <tr style=\"text-align: right;\">\n",
       "      <th></th>\n",
       "      <th>orgs</th>\n",
       "      <th>coordinateUncertaintyInMeters</th>\n",
       "    </tr>\n",
       "  </thead>\n",
       "  <tbody>\n",
       "    <tr>\n",
       "      <th>0</th>\n",
       "      <td>plantNet</td>\n",
       "      <td>7.0</td>\n",
       "    </tr>\n",
       "    <tr>\n",
       "      <th>1</th>\n",
       "      <td>plantNet</td>\n",
       "      <td>31.0</td>\n",
       "    </tr>\n",
       "  </tbody>\n",
       "</table>\n",
       "</div>"
      ],
      "text/plain": [
       "       orgs  coordinateUncertaintyInMeters\n",
       "0  plantNet                            7.0\n",
       "1  plantNet                           31.0"
      ]
     },
     "execution_count": 9,
     "metadata": {},
     "output_type": "execute_result"
    }
   ],
   "source": [
    "df_d = df[[\"orgs\", \"coordinateUncertaintyInMeters\"]].copy()\n",
    "df_d.head(2)"
   ]
  },
  {
   "cell_type": "code",
   "execution_count": 10,
   "id": "2966bc40",
   "metadata": {},
   "outputs": [
    {
     "data": {
      "text/html": [
       "<div>\n",
       "<style scoped>\n",
       "    .dataframe tbody tr th:only-of-type {\n",
       "        vertical-align: middle;\n",
       "    }\n",
       "\n",
       "    .dataframe tbody tr th {\n",
       "        vertical-align: top;\n",
       "    }\n",
       "\n",
       "    .dataframe thead tr th {\n",
       "        text-align: left;\n",
       "    }\n",
       "\n",
       "    .dataframe thead tr:last-of-type th {\n",
       "        text-align: right;\n",
       "    }\n",
       "</style>\n",
       "<table border=\"1\" class=\"dataframe\">\n",
       "  <thead>\n",
       "    <tr>\n",
       "      <th></th>\n",
       "      <th colspan=\"8\" halign=\"left\">coordinateUncertaintyInMeters</th>\n",
       "    </tr>\n",
       "    <tr>\n",
       "      <th></th>\n",
       "      <th>count</th>\n",
       "      <th>mean</th>\n",
       "      <th>std</th>\n",
       "      <th>min</th>\n",
       "      <th>25%</th>\n",
       "      <th>50%</th>\n",
       "      <th>75%</th>\n",
       "      <th>max</th>\n",
       "    </tr>\n",
       "    <tr>\n",
       "      <th>orgs</th>\n",
       "      <th></th>\n",
       "      <th></th>\n",
       "      <th></th>\n",
       "      <th></th>\n",
       "      <th></th>\n",
       "      <th></th>\n",
       "      <th></th>\n",
       "      <th></th>\n",
       "    </tr>\n",
       "  </thead>\n",
       "  <tbody>\n",
       "    <tr>\n",
       "      <th>ebutterfly</th>\n",
       "      <td>291.0</td>\n",
       "      <td>69.120275</td>\n",
       "      <td>42.936954</td>\n",
       "      <td>1.0</td>\n",
       "      <td>37.5</td>\n",
       "      <td>100.0</td>\n",
       "      <td>100.0</td>\n",
       "      <td>150.0</td>\n",
       "    </tr>\n",
       "    <tr>\n",
       "      <th>inat</th>\n",
       "      <td>121406.0</td>\n",
       "      <td>29.695979</td>\n",
       "      <td>38.584159</td>\n",
       "      <td>1.0</td>\n",
       "      <td>5.0</td>\n",
       "      <td>14.0</td>\n",
       "      <td>35.0</td>\n",
       "      <td>176.0</td>\n",
       "    </tr>\n",
       "    <tr>\n",
       "      <th>plantNet</th>\n",
       "      <td>4516.0</td>\n",
       "      <td>25.380647</td>\n",
       "      <td>24.313232</td>\n",
       "      <td>1.0</td>\n",
       "      <td>9.0</td>\n",
       "      <td>14.0</td>\n",
       "      <td>35.0</td>\n",
       "      <td>172.0</td>\n",
       "    </tr>\n",
       "  </tbody>\n",
       "</table>\n",
       "</div>"
      ],
      "text/plain": [
       "           coordinateUncertaintyInMeters                                   \\\n",
       "                                   count       mean        std  min   25%   \n",
       "orgs                                                                        \n",
       "ebutterfly                         291.0  69.120275  42.936954  1.0  37.5   \n",
       "inat                            121406.0  29.695979  38.584159  1.0   5.0   \n",
       "plantNet                          4516.0  25.380647  24.313232  1.0   9.0   \n",
       "\n",
       "                                 \n",
       "              50%    75%    max  \n",
       "orgs                             \n",
       "ebutterfly  100.0  100.0  150.0  \n",
       "inat         14.0   35.0  176.0  \n",
       "plantNet     14.0   35.0  172.0  "
      ]
     },
     "execution_count": 10,
     "metadata": {},
     "output_type": "execute_result"
    }
   ],
   "source": [
    "df_d.groupby('orgs').describe()"
   ]
  },
  {
   "cell_type": "code",
   "execution_count": 11,
   "id": "29c3d40f",
   "metadata": {},
   "outputs": [
    {
     "name": "stdout",
     "output_type": "stream",
     "text": [
      "(126213, 29)\n",
      "125 | 0.96\n",
      "176.8 | 1.0\n",
      "250 | 1.0\n",
      "500 | 1.0\n",
      "1000 | 1.0\n",
      "2000 | 1.0\n"
     ]
    }
   ],
   "source": [
    "\n",
    "print(df.shape)\n",
    "for t in [125, 176.8, 250, 500, 1000, 2000]:\n",
    "    print(t, \"|\", ((df['coordinateUncertaintyInMeters'] <= t).sum() / df.shape[0]).round(2))"
   ]
  },
  {
   "cell_type": "code",
   "execution_count": 12,
   "id": "b31217ac",
   "metadata": {},
   "outputs": [
    {
     "data": {
      "text/plain": [
       "<Axes: ylabel='coordinateUncertaintyInMeters'>"
      ]
     },
     "execution_count": 12,
     "metadata": {},
     "output_type": "execute_result"
    },
    {
     "data": {
      "image/png": "[encoded data removed]",
      "text/plain": [
       "<Figure size 640x480 with 1 Axes>"
      ]
     },
     "metadata": {},
     "output_type": "display_data"
    }
   ],
   "source": [
    "sns.boxplot(df, y = df.coordinateUncertaintyInMeters)\n"
   ]
  },
  {
   "cell_type": "code",
   "execution_count": 13,
   "id": "d346c6a0",
   "metadata": {},
   "outputs": [
    {
     "data": {
      "text/plain": [
       "<Axes: xlabel='orgs', ylabel='coordinateUncertaintyInMeters'>"
      ]
     },
     "execution_count": 13,
     "metadata": {},
     "output_type": "execute_result"
    },
    {
     "data": {
      "image/png": "[encoded data removed]",
      "text/plain": [
       "<Figure size 640x480 with 1 Axes>"
      ]
     },
     "metadata": {},
     "output_type": "display_data"
    }
   ],
   "source": [
    "sns.boxplot(df, x = df.orgs,y = df.coordinateUncertaintyInMeters)\n",
    "#df.coordinateUncertaintyInMeters.median"
   ]
  },
  {
   "cell_type": "code",
   "execution_count": 14,
   "id": "e03dcdeb",
   "metadata": {},
   "outputs": [
    {
     "data": {
      "text/html": [
       "<div>\n",
       "<style scoped>\n",
       "    .dataframe tbody tr th:only-of-type {\n",
       "        vertical-align: middle;\n",
       "    }\n",
       "\n",
       "    .dataframe tbody tr th {\n",
       "        vertical-align: top;\n",
       "    }\n",
       "\n",
       "    .dataframe thead th {\n",
       "        text-align: right;\n",
       "    }\n",
       "</style>\n",
       "<table border=\"1\" class=\"dataframe\">\n",
       "  <thead>\n",
       "    <tr style=\"text-align: right;\">\n",
       "      <th></th>\n",
       "      <th>issue_count</th>\n",
       "      <th>species_richness</th>\n",
       "      <th>coordinateUncertaintyMax</th>\n",
       "      <th>coordinateUncertaintyMean</th>\n",
       "      <th>coordinateUncertaintyMedian</th>\n",
       "    </tr>\n",
       "    <tr>\n",
       "      <th>grid_id</th>\n",
       "      <th></th>\n",
       "      <th></th>\n",
       "      <th></th>\n",
       "      <th></th>\n",
       "      <th></th>\n",
       "    </tr>\n",
       "  </thead>\n",
       "  <tbody>\n",
       "    <tr>\n",
       "      <th>34294.0</th>\n",
       "      <td>5</td>\n",
       "      <td>485</td>\n",
       "      <td>83.0</td>\n",
       "      <td>13.001985</td>\n",
       "      <td>1.0</td>\n",
       "    </tr>\n",
       "    <tr>\n",
       "      <th>36027.0</th>\n",
       "      <td>4</td>\n",
       "      <td>359</td>\n",
       "      <td>169.0</td>\n",
       "      <td>24.245638</td>\n",
       "      <td>18.0</td>\n",
       "    </tr>\n",
       "  </tbody>\n",
       "</table>\n",
       "</div>"
      ],
      "text/plain": [
       "         issue_count  species_richness  coordinateUncertaintyMax  \\\n",
       "grid_id                                                            \n",
       "34294.0            5               485                      83.0   \n",
       "36027.0            4               359                     169.0   \n",
       "\n",
       "         coordinateUncertaintyMean  coordinateUncertaintyMedian  \n",
       "grid_id                                                          \n",
       "34294.0                  13.001985                          1.0  \n",
       "36027.0                  24.245638                         18.0  "
      ]
     },
     "execution_count": 14,
     "metadata": {},
     "output_type": "execute_result"
    }
   ],
   "source": [
    "df_issues = df.groupby(['grid_id']).agg(issue_count = ('issue', 'nunique'),\n",
    "                                        species_richness = ('species', 'nunique'),\n",
    "                                        coordinateUncertaintyMax = ('coordinateUncertaintyInMeters', 'max'),\n",
    "                                        coordinateUncertaintyMean = ('coordinateUncertaintyInMeters', 'mean'),\n",
    "                                        coordinateUncertaintyMedian = ('coordinateUncertaintyInMeters', 'median')\n",
    "                                    \n",
    "                                        \n",
    "                                        ).sort_values(by = 'species_richness', ascending= False)\n",
    "df_issues.head(2)\n",
    "#df_issues.describe()"
   ]
  },
  {
   "cell_type": "code",
   "execution_count": 15,
   "id": "8e6e83bc",
   "metadata": {},
   "outputs": [
    {
     "data": {
      "text/html": [
       "<div>\n",
       "<style scoped>\n",
       "    .dataframe tbody tr th:only-of-type {\n",
       "        vertical-align: middle;\n",
       "    }\n",
       "\n",
       "    .dataframe tbody tr th {\n",
       "        vertical-align: top;\n",
       "    }\n",
       "\n",
       "    .dataframe thead th {\n",
       "        text-align: right;\n",
       "    }\n",
       "</style>\n",
       "<table border=\"1\" class=\"dataframe\">\n",
       "  <thead>\n",
       "    <tr style=\"text-align: right;\">\n",
       "      <th></th>\n",
       "      <th>orgs</th>\n",
       "    </tr>\n",
       "    <tr>\n",
       "      <th>grid_id</th>\n",
       "      <th></th>\n",
       "    </tr>\n",
       "  </thead>\n",
       "  <tbody>\n",
       "    <tr>\n",
       "      <th>181.0</th>\n",
       "      <td>28eb1a3f-1c15-4a95-931a-4af90ecb574d</td>\n",
       "    </tr>\n",
       "    <tr>\n",
       "      <th>182.0</th>\n",
       "      <td>28eb1a3f-1c15-4a95-931a-4af90ecb574d</td>\n",
       "    </tr>\n",
       "    <tr>\n",
       "      <th>365.0</th>\n",
       "      <td>28eb1a3f-1c15-4a95-931a-4af90ecb574d</td>\n",
       "    </tr>\n",
       "    <tr>\n",
       "      <th>367.0</th>\n",
       "      <td>28eb1a3f-1c15-4a95-931a-4af90ecb574d</td>\n",
       "    </tr>\n",
       "    <tr>\n",
       "      <th>538.0</th>\n",
       "      <td>28eb1a3f-1c15-4a95-931a-4af90ecb574d</td>\n",
       "    </tr>\n",
       "  </tbody>\n",
       "</table>\n",
       "</div>"
      ],
      "text/plain": [
       "                                         orgs\n",
       "grid_id                                      \n",
       "181.0    28eb1a3f-1c15-4a95-931a-4af90ecb574d\n",
       "182.0    28eb1a3f-1c15-4a95-931a-4af90ecb574d\n",
       "365.0    28eb1a3f-1c15-4a95-931a-4af90ecb574d\n",
       "367.0    28eb1a3f-1c15-4a95-931a-4af90ecb574d\n",
       "538.0    28eb1a3f-1c15-4a95-931a-4af90ecb574d"
      ]
     },
     "execution_count": 15,
     "metadata": {},
     "output_type": "execute_result"
    }
   ],
   "source": [
    "df_orgs = df.groupby(['grid_id']).agg(orgs = ('publishingOrgKey', pd.Series.mode))\n",
    "df_orgs.head()\n"
   ]
  },
  {
   "cell_type": "code",
   "execution_count": 16,
   "id": "b56bc439",
   "metadata": {},
   "outputs": [
    {
     "data": {
      "text/html": [
       "<div>\n",
       "<style scoped>\n",
       "    .dataframe tbody tr th:only-of-type {\n",
       "        vertical-align: middle;\n",
       "    }\n",
       "\n",
       "    .dataframe tbody tr th {\n",
       "        vertical-align: top;\n",
       "    }\n",
       "\n",
       "    .dataframe thead th {\n",
       "        text-align: right;\n",
       "    }\n",
       "</style>\n",
       "<table border=\"1\" class=\"dataframe\">\n",
       "  <thead>\n",
       "    <tr style=\"text-align: right;\">\n",
       "      <th></th>\n",
       "      <th>issue_count</th>\n",
       "      <th>species_richness</th>\n",
       "      <th>coordinateUncertaintyMax</th>\n",
       "      <th>coordinateUncertaintyMean</th>\n",
       "      <th>coordinateUncertaintyMedian</th>\n",
       "      <th>orgs</th>\n",
       "    </tr>\n",
       "    <tr>\n",
       "      <th>grid_id</th>\n",
       "      <th></th>\n",
       "      <th></th>\n",
       "      <th></th>\n",
       "      <th></th>\n",
       "      <th></th>\n",
       "      <th></th>\n",
       "    </tr>\n",
       "  </thead>\n",
       "  <tbody>\n",
       "    <tr>\n",
       "      <th>34294.0</th>\n",
       "      <td>5</td>\n",
       "      <td>485</td>\n",
       "      <td>83.0</td>\n",
       "      <td>13.001985</td>\n",
       "      <td>1.0</td>\n",
       "      <td>28eb1a3f-1c15-4a95-931a-4af90ecb574d</td>\n",
       "    </tr>\n",
       "    <tr>\n",
       "      <th>36027.0</th>\n",
       "      <td>4</td>\n",
       "      <td>359</td>\n",
       "      <td>169.0</td>\n",
       "      <td>24.245638</td>\n",
       "      <td>18.0</td>\n",
       "      <td>28eb1a3f-1c15-4a95-931a-4af90ecb574d</td>\n",
       "    </tr>\n",
       "    <tr>\n",
       "      <th>28055.0</th>\n",
       "      <td>5</td>\n",
       "      <td>342</td>\n",
       "      <td>176.0</td>\n",
       "      <td>18.079455</td>\n",
       "      <td>8.0</td>\n",
       "      <td>28eb1a3f-1c15-4a95-931a-4af90ecb574d</td>\n",
       "    </tr>\n",
       "    <tr>\n",
       "      <th>37995.0</th>\n",
       "      <td>5</td>\n",
       "      <td>245</td>\n",
       "      <td>169.0</td>\n",
       "      <td>25.396594</td>\n",
       "      <td>10.0</td>\n",
       "      <td>28eb1a3f-1c15-4a95-931a-4af90ecb574d</td>\n",
       "    </tr>\n",
       "    <tr>\n",
       "      <th>41532.0</th>\n",
       "      <td>4</td>\n",
       "      <td>244</td>\n",
       "      <td>149.0</td>\n",
       "      <td>30.803119</td>\n",
       "      <td>15.0</td>\n",
       "      <td>28eb1a3f-1c15-4a95-931a-4af90ecb574d</td>\n",
       "    </tr>\n",
       "  </tbody>\n",
       "</table>\n",
       "</div>"
      ],
      "text/plain": [
       "         issue_count  species_richness  coordinateUncertaintyMax  \\\n",
       "grid_id                                                            \n",
       "34294.0            5               485                      83.0   \n",
       "36027.0            4               359                     169.0   \n",
       "28055.0            5               342                     176.0   \n",
       "37995.0            5               245                     169.0   \n",
       "41532.0            4               244                     149.0   \n",
       "\n",
       "         coordinateUncertaintyMean  coordinateUncertaintyMedian  \\\n",
       "grid_id                                                           \n",
       "34294.0                  13.001985                          1.0   \n",
       "36027.0                  24.245638                         18.0   \n",
       "28055.0                  18.079455                          8.0   \n",
       "37995.0                  25.396594                         10.0   \n",
       "41532.0                  30.803119                         15.0   \n",
       "\n",
       "                                         orgs  \n",
       "grid_id                                        \n",
       "34294.0  28eb1a3f-1c15-4a95-931a-4af90ecb574d  \n",
       "36027.0  28eb1a3f-1c15-4a95-931a-4af90ecb574d  \n",
       "28055.0  28eb1a3f-1c15-4a95-931a-4af90ecb574d  \n",
       "37995.0  28eb1a3f-1c15-4a95-931a-4af90ecb574d  \n",
       "41532.0  28eb1a3f-1c15-4a95-931a-4af90ecb574d  "
      ]
     },
     "execution_count": 16,
     "metadata": {},
     "output_type": "execute_result"
    }
   ],
   "source": [
    "df1 = df_issues.merge(df_orgs, on = 'grid_id')\n",
    "df1.head()"
   ]
  },
  {
   "cell_type": "code",
   "execution_count": 17,
   "id": "94de0a6a",
   "metadata": {},
   "outputs": [
    {
     "name": "stdout",
     "output_type": "stream",
     "text": [
      "                                                    issue      gbifID\n",
      "4821    COORDINATE_ROUNDED;CONTINENT_DERIVED_FROM_COOR...  4507879014\n",
      "4822    COORDINATE_ROUNDED;CONTINENT_DERIVED_FROM_COOR...  4522527516\n",
      "4823    COORDINATE_ROUNDED;CONTINENT_DERIVED_FROM_COOR...  4908971906\n",
      "4824    COORDINATE_ROUNDED;CONTINENT_DERIVED_FROM_COOR...  4910929014\n",
      "4825    COORDINATE_ROUNDED;CONTINENT_DERIVED_FROM_COOR...  5292329385\n",
      "...                                                   ...         ...\n",
      "125512  COORDINATE_ROUNDED;CONTINENT_DERIVED_FROM_COOR...  4908924318\n",
      "125518  COORDINATE_ROUNDED;CONTINENT_DERIVED_FROM_COOR...  4519153732\n",
      "125528  COORDINATE_ROUNDED;CONTINENT_DERIVED_FROM_COOR...  5292495509\n",
      "125535  COORDINATE_ROUNDED;CONTINENT_DERIVED_FROM_COOR...  5828128798\n",
      "125538  COORDINATE_ROUNDED;CONTINENT_DERIVED_FROM_COOR...  5217057527\n",
      "\n",
      "[1511 rows x 2 columns]\n"
     ]
    }
   ],
   "source": [
    "#List issue from grid cell: \n",
    "\n",
    "x = df.loc[df['grid_id'] == 34294, ['issue', 'gbifID']]\n",
    "print(x)"
   ]
  },
  {
   "cell_type": "code",
   "execution_count": 1,
   "id": "697e0637",
   "metadata": {},
   "outputs": [
    {
     "ename": "NameError",
     "evalue": "name 'con' is not defined",
     "output_type": "error",
     "traceback": [
      "\u001b[31m---------------------------------------------------------------------------\u001b[39m",
      "\u001b[31mNameError\u001b[39m                                 Traceback (most recent call last)",
      "\u001b[36mCell\u001b[39m\u001b[36m \u001b[39m\u001b[32mIn[1]\u001b[39m\u001b[32m, line 1\u001b[39m\n\u001b[32m----> \u001b[39m\u001b[32m1\u001b[39m \u001b[43mcon\u001b[49m.close()\n",
      "\u001b[31mNameError\u001b[39m: name 'con' is not defined"
     ]
    }
   ],
   "source": [
    "con.close()"
   ]
  }
 ],
 "metadata": {
  "kernelspec": {
   "display_name": "mtlParkBiodiversity",
   "language": "python",
   "name": "python3"
  },
  "language_info": {
   "codemirror_mode": {
    "name": "ipython",
    "version": 3
   },
   "file_extension": ".py",
   "mimetype": "text/x-python",
   "name": "python",
   "nbconvert_exporter": "python",
   "pygments_lexer": "ipython3",
   "version": "3.11.13"
  }
 },
 "nbformat": 4,
 "nbformat_minor": 5
}
