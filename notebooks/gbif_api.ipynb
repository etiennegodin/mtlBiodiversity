{
 "cells": [
  {
   "cell_type": "code",
   "execution_count": 23,
   "id": "fe871a87",
   "metadata": {},
   "outputs": [],
   "source": [
    "from pygbif import species\n",
    "species_info = species.name_backbone('Abies balsamea')  # European Starling\n",
    "from pyinaturalist import (\n",
    "    Taxon,\n",
    "    enable_logging,\n",
    "    get_taxa,\n",
    "    get_taxa_autocomplete,\n",
    "    get_taxa_by_id,\n",
    "    pprint,\n",
    ")\n",
    "enable_logging()\n"
   ]
  },
  {
   "cell_type": "code",
   "execution_count": 27,
   "id": "22901c18",
   "metadata": {},
   "outputs": [
    {
     "name": "stderr",
     "output_type": "stream",
     "text": [
      "INFO:Request:\n",
      "GET https://api.inaturalist.org/v1/taxa?q=Abies+balsamea&rank=species%2Cgenus\n",
      "User-Agent: python-requests/2.32.5 pyinaturalist/0.20.2\n",
      "Accept-Encoding: gzip, deflate\n",
      "Accept: application/json\n",
      "Connection: keep-alive\n",
      "\n"
     ]
    },
    {
     "name": "stdout",
     "output_type": "stream",
     "text": [
      "                                                         \n",
      " \u001b[1;37m \u001b[0m\u001b[1;37mID   \u001b[0m\u001b[1;37m \u001b[0m \u001b[1;37m \u001b[0m\u001b[1;37mRank   \u001b[0m\u001b[1;37m \u001b[0m \u001b[1;37m \u001b[0m\u001b[1;37mScientific name    \u001b[0m\u001b[1;37m \u001b[0m \u001b[1;37m \u001b[0m\u001b[1;37mCommon name  \u001b[0m\u001b[1;37m \u001b[0m \n",
      " ─────────────────────────────────────────────────────── \n",
      " \u001b[2;36m \u001b[0m\u001b[2;36m54261\u001b[0m\u001b[2;36m \u001b[0m \u001b[2;37m \u001b[0m\u001b[2;37mspecies\u001b[0m\u001b[2;37m \u001b[0m \u001b[2;32m \u001b[0m\u001b[2;32m🌲 Abies balsamea  \u001b[0m\u001b[2;32m \u001b[0m \u001b[2;34m \u001b[0m\u001b[2;34mbalsam fir   \u001b[0m\u001b[2;34m \u001b[0m \n",
      " \u001b[36m \u001b[0m\u001b[36m75241\u001b[0m\u001b[36m \u001b[0m \u001b[37m \u001b[0m\u001b[37mspecies\u001b[0m\u001b[37m \u001b[0m \u001b[32m \u001b[0m\u001b[32m🌲 Abies lasiocarpa\u001b[0m\u001b[32m \u001b[0m \u001b[34m \u001b[0m\u001b[34msubalpine fir\u001b[0m\u001b[34m \u001b[0m \n",
      "                                                         \n"
     ]
    }
   ],
   "source": [
    "response = get_taxa(q='Abies balsamea', rank=['species', 'genus'])\n",
    "taxa = Taxon.from_json_list(response)\n",
    "pprint(taxa)"
   ]
  }
 ],
 "metadata": {
  "kernelspec": {
   "display_name": "mtlParkBiodiversity",
   "language": "python",
   "name": "python3"
  },
  "language_info": {
   "codemirror_mode": {
    "name": "ipython",
    "version": 3
   },
   "file_extension": ".py",
   "mimetype": "text/x-python",
   "name": "python",
   "nbconvert_exporter": "python",
   "pygments_lexer": "ipython3",
   "version": "3.11.13"
  }
 },
 "nbformat": 4,
 "nbformat_minor": 5
}
