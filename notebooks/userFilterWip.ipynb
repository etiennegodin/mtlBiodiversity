{
 "cells": [
  {
   "cell_type": "code",
   "execution_count": 7,
   "id": "4db133cf",
   "metadata": {},
   "outputs": [],
   "source": [
    "\n",
    "import duckdb\n",
    "file = \"C:/Users/manat/Documents/Projects/mtlBiodiversity/data/db/mtlbio.duckdb\"\n",
    "import pandas as pd\n",
    "import seaborn as sns\n",
    "import matplotlib.pyplot as plt\n",
    "import numpy as np\n",
    "from sklearn.cluster import DBSCAN, HDBSCAN\n"
   ]
  },
  {
   "cell_type": "code",
   "execution_count": 8,
   "id": "56454bf0",
   "metadata": {},
   "outputs": [],
   "source": [
    "pd.set_option('display.max_rows', 500)\n",
    "pd.set_option('display.max_columns', 500)\n",
    "pd.set_option('display.width', 2000)"
   ]
  },
  {
   "cell_type": "code",
   "execution_count": 9,
   "id": "e876e2a7",
   "metadata": {},
   "outputs": [],
   "source": [
    "# Function to convert string to datetime\n",
    "def create_datetime(row):\n",
    "    from datetime import date\n",
    "    x = f\"{row.year}-{str(row.month).rjust(2, '0')}-{str(row.day).rjust(2, '0')}\"\n",
    "    x = date.fromisoformat(x)\n",
    "    return x"
   ]
  },
  {
   "cell_type": "code",
   "execution_count": 27,
   "id": "03e2f5cd",
   "metadata": {},
   "outputs": [],
   "source": [
    "def max_min_spread(series):\n",
    "    \"\"\"Calculates the difference between the max and min of a Series.\"\"\"\n",
    "    return series.max() - series.min()"
   ]
  },
  {
   "cell_type": "code",
   "execution_count": 10,
   "id": "34941660",
   "metadata": {},
   "outputs": [],
   "source": [
    "con = duckdb.connect(file)\n",
    "df = con.execute(\"SELECT * from gbif_raw\").df()\n",
    "#df.head()"
   ]
  },
  {
   "cell_type": "code",
   "execution_count": 11,
   "id": "0e577b79",
   "metadata": {},
   "outputs": [],
   "source": [
    "df['datetime'] = df.apply(create_datetime, axis = 1)\n"
   ]
  },
  {
   "cell_type": "code",
   "execution_count": 12,
   "id": "b8d5fd97",
   "metadata": {},
   "outputs": [
    {
     "data": {
      "text/html": [
       "<div>\n",
       "<style scoped>\n",
       "    .dataframe tbody tr th:only-of-type {\n",
       "        vertical-align: middle;\n",
       "    }\n",
       "\n",
       "    .dataframe tbody tr th {\n",
       "        vertical-align: top;\n",
       "    }\n",
       "\n",
       "    .dataframe thead th {\n",
       "        text-align: right;\n",
       "    }\n",
       "</style>\n",
       "<table border=\"1\" class=\"dataframe\">\n",
       "  <thead>\n",
       "    <tr style=\"text-align: right;\">\n",
       "      <th></th>\n",
       "      <th>obs</th>\n",
       "    </tr>\n",
       "    <tr>\n",
       "      <th>recordedBy</th>\n",
       "      <th></th>\n",
       "    </tr>\n",
       "  </thead>\n",
       "  <tbody>\n",
       "    <tr>\n",
       "      <th>Michel Goulet</th>\n",
       "      <td>8632</td>\n",
       "    </tr>\n",
       "    <tr>\n",
       "      <th>François Plourde - Renard frak</th>\n",
       "      <td>7542</td>\n",
       "    </tr>\n",
       "    <tr>\n",
       "      <th>canouquebec</th>\n",
       "      <td>7446</td>\n",
       "    </tr>\n",
       "    <tr>\n",
       "      <th>Serge Benoit</th>\n",
       "      <td>5746</td>\n",
       "    </tr>\n",
       "    <tr>\n",
       "      <th>Frederic Desmeules</th>\n",
       "      <td>4116</td>\n",
       "    </tr>\n",
       "    <tr>\n",
       "      <th>ornitholarocque</th>\n",
       "      <td>3980</td>\n",
       "    </tr>\n",
       "    <tr>\n",
       "      <th>Katherine Collin</th>\n",
       "      <td>3590</td>\n",
       "    </tr>\n",
       "    <tr>\n",
       "      <th>sparent66</th>\n",
       "      <td>3449</td>\n",
       "    </tr>\n",
       "    <tr>\n",
       "      <th>trejdil</th>\n",
       "      <td>3098</td>\n",
       "    </tr>\n",
       "    <tr>\n",
       "      <th>Fabian Orozco</th>\n",
       "      <td>2592</td>\n",
       "    </tr>\n",
       "    <tr>\n",
       "      <th>robert_thibault</th>\n",
       "      <td>2444</td>\n",
       "    </tr>\n",
       "    <tr>\n",
       "      <th>Stephane Le Tirant</th>\n",
       "      <td>2213</td>\n",
       "    </tr>\n",
       "    <tr>\n",
       "      <th>APDP</th>\n",
       "      <td>2089</td>\n",
       "    </tr>\n",
       "    <tr>\n",
       "      <th>inspector_crow</th>\n",
       "      <td>1885</td>\n",
       "    </tr>\n",
       "    <tr>\n",
       "      <th>Philippe Hénault</th>\n",
       "      <td>1747</td>\n",
       "    </tr>\n",
       "  </tbody>\n",
       "</table>\n",
       "</div>"
      ],
      "text/plain": [
       "                                 obs\n",
       "recordedBy                          \n",
       "Michel Goulet                   8632\n",
       "François Plourde - Renard frak  7542\n",
       "canouquebec                     7446\n",
       "Serge Benoit                    5746\n",
       "Frederic Desmeules              4116\n",
       "ornitholarocque                 3980\n",
       "Katherine Collin                3590\n",
       "sparent66                       3449\n",
       "trejdil                         3098\n",
       "Fabian Orozco                   2592\n",
       "robert_thibault                 2444\n",
       "Stephane Le Tirant              2213\n",
       "APDP                            2089\n",
       "inspector_crow                  1885\n",
       "Philippe Hénault                1747"
      ]
     },
     "execution_count": 12,
     "metadata": {},
     "output_type": "execute_result"
    }
   ],
   "source": [
    "df_user = df.groupby(['recordedBy']).agg(obs = ('gbifID', 'nunique')).sort_values('obs', ascending= False)\n",
    "top_observers = df_user.index[0:15]\n",
    "df_user.head(15)\n"
   ]
  },
  {
   "cell_type": "code",
   "execution_count": 17,
   "id": "cf052968",
   "metadata": {},
   "outputs": [
    {
     "name": "stdout",
     "output_type": "stream",
     "text": [
      "Estimated number of clusters: 85\n",
      "Estimated number of noise points: 198\n"
     ]
    }
   ],
   "source": [
    "cluster_size = 0.05 #in km\n",
    "kms_per_radian = 6371.0088\n",
    "epsilon = cluster_size / kms_per_radian\n",
    "\n",
    "\n",
    "for idx, obs in enumerate(top_observers):\n",
    "    if obs != 'robert_thibault':\n",
    "        continue\n",
    "    #if idx == 2:\n",
    "        break        \n",
    "        continue\n",
    "    df_obs = df.loc[df.recordedBy == obs, ['gbifID', 'decimalLatitude', 'decimalLongitude', 'occurrenceID', 'species', 'datetime']]\n",
    "    coords = np.radians(df_obs[['decimalLatitude', 'decimalLongitude']].values)\n",
    "    db = DBSCAN(eps=epsilon,\n",
    "                min_samples=3,\n",
    "                algorithm='ball_tree',\n",
    "                metric='haversine').fit(coords)\n",
    "    \n",
    "    labels = db.labels_\n",
    "    df_obs['cluster'] = labels\n",
    "    # Number of clusters in labels, ignoring noise if present.\n",
    "    n_clusters_ = len(set(labels)) - (1 if -1 in labels else 0)\n",
    "    n_noise_ = list(labels).count(-1)\n",
    "\n",
    "    print(\"Estimated number of clusters: %d\" % n_clusters_)\n",
    "    print(\"Estimated number of noise points: %d\" % n_noise_)\n",
    "    #sns.scatterplot(df_obs, x = 'decimalLongitude', y = 'decimalLatitude', hue = 'cluster')\n",
    "    #print(df_obs)   \n",
    "    #plt.show() \n",
    "    "
   ]
  },
  {
   "cell_type": "code",
   "execution_count": null,
   "id": "1093b3c3",
   "metadata": {},
   "outputs": [
    {
     "ename": "TypeError",
     "evalue": "Must provide 'func' or tuples of '(column, aggfunc).",
     "output_type": "error",
     "traceback": [
      "\u001b[31m---------------------------------------------------------------------------\u001b[39m",
      "\u001b[31mTypeError\u001b[39m                                 Traceback (most recent call last)",
      "\u001b[36mCell\u001b[39m\u001b[36m \u001b[39m\u001b[32mIn[28]\u001b[39m\u001b[32m, line 1\u001b[39m\n\u001b[32m----> \u001b[39m\u001b[32m1\u001b[39m df_clusters = \u001b[43mdf_obs\u001b[49m\u001b[43m.\u001b[49m\u001b[43mgroupby\u001b[49m\u001b[43m(\u001b[49m\u001b[33;43m'\u001b[39;49m\u001b[33;43mcluster\u001b[39;49m\u001b[33;43m'\u001b[39;49m\u001b[43m)\u001b[49m\u001b[43m.\u001b[49m\u001b[43magg\u001b[49m\u001b[43m(\u001b[49m\u001b[43mn_obs\u001b[49m\u001b[43m \u001b[49m\u001b[43m=\u001b[49m\u001b[43m \u001b[49m\u001b[43m(\u001b[49m\u001b[33;43m'\u001b[39;49m\u001b[33;43mgbifID\u001b[39;49m\u001b[33;43m'\u001b[39;49m\u001b[43m \u001b[49m\u001b[43m,\u001b[49m\u001b[43m \u001b[49m\u001b[33;43m'\u001b[39;49m\u001b[33;43mnunique\u001b[39;49m\u001b[33;43m'\u001b[39;49m\u001b[43m)\u001b[49m\u001b[43m,\u001b[49m\n\u001b[32m      2\u001b[39m \u001b[43m                                            \u001b[49m\u001b[43mn_species\u001b[49m\u001b[43m \u001b[49m\u001b[43m=\u001b[49m\u001b[43m \u001b[49m\u001b[43m(\u001b[49m\u001b[33;43m'\u001b[39;49m\u001b[33;43mspecies\u001b[39;49m\u001b[33;43m'\u001b[39;49m\u001b[43m,\u001b[49m\u001b[33;43m'\u001b[39;49m\u001b[33;43mnunique\u001b[39;49m\u001b[33;43m'\u001b[39;49m\u001b[43m)\u001b[49m\u001b[43m,\u001b[49m\n\u001b[32m      3\u001b[39m \u001b[43m                                            \u001b[49m\u001b[43mtime\u001b[49m\u001b[43m \u001b[49m\u001b[43m=\u001b[49m\u001b[43m \u001b[49m\u001b[43mmax_min_spread\u001b[49m\n\u001b[32m      4\u001b[39m \u001b[43m                                            \u001b[49m\u001b[43m)\u001b[49m.sort_values(\u001b[33m'\u001b[39m\u001b[33mn_obs\u001b[39m\u001b[33m'\u001b[39m, ascending= \u001b[38;5;28;01mFalse\u001b[39;00m)\n\u001b[32m      6\u001b[39m df_clusters\n",
      "\u001b[36mFile \u001b[39m\u001b[32mc:\\Users\\manat\\anaconda3\\envs\\mtlParkBiodiversity\\Lib\\site-packages\\pandas\\core\\groupby\\generic.py:1422\u001b[39m, in \u001b[36mDataFrameGroupBy.aggregate\u001b[39m\u001b[34m(self, func, engine, engine_kwargs, *args, **kwargs)\u001b[39m\n\u001b[32m   1420\u001b[39m \u001b[38;5;129m@doc\u001b[39m(_agg_template_frame, examples=_agg_examples_doc, klass=\u001b[33m\"\u001b[39m\u001b[33mDataFrame\u001b[39m\u001b[33m\"\u001b[39m)\n\u001b[32m   1421\u001b[39m \u001b[38;5;28;01mdef\u001b[39;00m\u001b[38;5;250m \u001b[39m\u001b[34maggregate\u001b[39m(\u001b[38;5;28mself\u001b[39m, func=\u001b[38;5;28;01mNone\u001b[39;00m, *args, engine=\u001b[38;5;28;01mNone\u001b[39;00m, engine_kwargs=\u001b[38;5;28;01mNone\u001b[39;00m, **kwargs):\n\u001b[32m-> \u001b[39m\u001b[32m1422\u001b[39m     relabeling, func, columns, order = \u001b[43mreconstruct_func\u001b[49m\u001b[43m(\u001b[49m\u001b[43mfunc\u001b[49m\u001b[43m,\u001b[49m\u001b[43m \u001b[49m\u001b[43m*\u001b[49m\u001b[43m*\u001b[49m\u001b[43mkwargs\u001b[49m\u001b[43m)\u001b[49m\n\u001b[32m   1423\u001b[39m     func = maybe_mangle_lambdas(func)\n\u001b[32m   1425\u001b[39m     \u001b[38;5;28;01mif\u001b[39;00m maybe_use_numba(engine):\n\u001b[32m   1426\u001b[39m         \u001b[38;5;66;03m# Not all agg functions support numba, only propagate numba kwargs\u001b[39;00m\n\u001b[32m   1427\u001b[39m         \u001b[38;5;66;03m# if user asks for numba\u001b[39;00m\n",
      "\u001b[36mFile \u001b[39m\u001b[32mc:\\Users\\manat\\anaconda3\\envs\\mtlParkBiodiversity\\Lib\\site-packages\\pandas\\core\\apply.py:1691\u001b[39m, in \u001b[36mreconstruct_func\u001b[39m\u001b[34m(func, **kwargs)\u001b[39m\n\u001b[32m   1685\u001b[39m         \u001b[38;5;28;01mraise\u001b[39;00m SpecificationError(\n\u001b[32m   1686\u001b[39m             \u001b[33m\"\u001b[39m\u001b[33mFunction names must be unique if there is no new column names \u001b[39m\u001b[33m\"\u001b[39m\n\u001b[32m   1687\u001b[39m             \u001b[33m\"\u001b[39m\u001b[33massigned\u001b[39m\u001b[33m\"\u001b[39m\n\u001b[32m   1688\u001b[39m         )\n\u001b[32m   1689\u001b[39m     \u001b[38;5;28;01mif\u001b[39;00m func \u001b[38;5;129;01mis\u001b[39;00m \u001b[38;5;28;01mNone\u001b[39;00m:\n\u001b[32m   1690\u001b[39m         \u001b[38;5;66;03m# nicer error message\u001b[39;00m\n\u001b[32m-> \u001b[39m\u001b[32m1691\u001b[39m         \u001b[38;5;28;01mraise\u001b[39;00m \u001b[38;5;167;01mTypeError\u001b[39;00m(\u001b[33m\"\u001b[39m\u001b[33mMust provide \u001b[39m\u001b[33m'\u001b[39m\u001b[33mfunc\u001b[39m\u001b[33m'\u001b[39m\u001b[33m or tuples of \u001b[39m\u001b[33m'\u001b[39m\u001b[33m(column, aggfunc).\u001b[39m\u001b[33m\"\u001b[39m)\n\u001b[32m   1693\u001b[39m \u001b[38;5;28;01mif\u001b[39;00m relabeling:\n\u001b[32m   1694\u001b[39m     \u001b[38;5;66;03m# error: Incompatible types in assignment (expression has type\u001b[39;00m\n\u001b[32m   1695\u001b[39m     \u001b[38;5;66;03m# \"MutableMapping[Hashable, list[Callable[..., Any] | str]]\", variable has type\u001b[39;00m\n\u001b[32m   1696\u001b[39m     \u001b[38;5;66;03m# \"Callable[..., Any] | str | list[Callable[..., Any] | str] |\u001b[39;00m\n\u001b[32m   1697\u001b[39m     \u001b[38;5;66;03m# MutableMapping[Hashable, Callable[..., Any] | str | list[Callable[..., Any] |\u001b[39;00m\n\u001b[32m   1698\u001b[39m     \u001b[38;5;66;03m# str]] | None\")\u001b[39;00m\n\u001b[32m   1699\u001b[39m     func, columns, order = normalize_keyword_aggregation(  \u001b[38;5;66;03m# type: ignore[assignment]\u001b[39;00m\n\u001b[32m   1700\u001b[39m         kwargs\n\u001b[32m   1701\u001b[39m     )\n",
      "\u001b[31mTypeError\u001b[39m: Must provide 'func' or tuples of '(column, aggfunc)."
     ]
    }
   ],
   "source": [
    "df_clusters = df_obs.groupby('cluster').agg(n_obs = ('gbifID' , 'nunique'),\n",
    "                                            n_species = ('species','nunique'),\n",
    "                                            time = ('datetime', max_min_spread)\n",
    "                                            ).sort_values('n_obs', ascending= False)\n",
    "\n",
    "df_clusters"
   ]
  },
  {
   "cell_type": "code",
   "execution_count": 15,
   "id": "538ca992",
   "metadata": {},
   "outputs": [
    {
     "data": {
      "image/png": "[encoded data removed]",
      "text/plain": [
       "<Figure size 640x480 with 1 Axes>"
      ]
     },
     "metadata": {},
     "output_type": "display_data"
    }
   ],
   "source": [
    "unique_labels = set(labels)\n",
    "core_samples_mask = np.zeros_like(labels, dtype=bool)\n",
    "core_samples_mask[db.core_sample_indices_] = True\n",
    "\n",
    "colors = [plt.cm.Spectral(each) for each in np.linspace(0, 1, len(unique_labels))]\n",
    "for k, col in zip(unique_labels, colors):\n",
    "    if k == -1:\n",
    "        # Black used for noise.\n",
    "        col = [0, 0, 0, 1]\n",
    "\n",
    "    class_member_mask = labels == k\n",
    "\n",
    "    xy = coords[class_member_mask & core_samples_mask]\n",
    "    plt.plot(\n",
    "        xy[:, 0],\n",
    "        xy[:, 1],\n",
    "        \"o\",\n",
    "        markerfacecolor=tuple(col),\n",
    "        markeredgecolor=\"k\",\n",
    "        markersize=14,\n",
    "    )\n",
    "\n",
    "    xy = coords[class_member_mask & ~core_samples_mask]\n",
    "    plt.plot(\n",
    "        xy[:, 0],\n",
    "        xy[:, 1],\n",
    "        \"o\",\n",
    "        markerfacecolor=tuple(col),\n",
    "        markeredgecolor=\"k\",\n",
    "        markersize=6,\n",
    "    )\n",
    "\n",
    "plt.title(f\"Estimated number of clusters: {n_clusters_}\")\n",
    "plt.show()"
   ]
  },
  {
   "cell_type": "code",
   "execution_count": 16,
   "id": "b7fcfc0f",
   "metadata": {},
   "outputs": [],
   "source": [
    "con.close()"
   ]
  }
 ],
 "metadata": {
  "kernelspec": {
   "display_name": "mtlParkBiodiversity",
   "language": "python",
   "name": "python3"
  },
  "language_info": {
   "codemirror_mode": {
    "name": "ipython",
    "version": 3
   },
   "file_extension": ".py",
   "mimetype": "text/x-python",
   "name": "python",
   "nbconvert_exporter": "python",
   "pygments_lexer": "ipython3",
   "version": "3.11.13"
  }
 },
 "nbformat": 4,
 "nbformat_minor": 5
}
