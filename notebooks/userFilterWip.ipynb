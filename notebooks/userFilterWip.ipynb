{
 "cells": [
  {
   "cell_type": "code",
   "execution_count": 1,
   "id": "4db133cf",
   "metadata": {},
   "outputs": [],
   "source": [
    "import duckdb\n",
    "file = \"C:/Users/manat/Documents/Projects/mtlBiodiversity/data/db/mtlbio.duckdb\"\n",
    "import pandas as pd\n",
    "import seaborn as sns\n",
    "import matplotlib.pyplot as plt\n",
    "import numpy as np "
   ]
  },
  {
   "cell_type": "code",
   "execution_count": 3,
   "id": "34941660",
   "metadata": {},
   "outputs": [],
   "source": [
    "con = duckdb.connect(file)\n",
    "df = con.execute(\"SELECT * from gbif_raw\").df()\n",
    "\n",
    "#df.head()"
   ]
  },
  {
   "cell_type": "code",
   "execution_count": 21,
   "id": "b8d5fd97",
   "metadata": {},
   "outputs": [
    {
     "data": {
      "text/html": [
       "<div>\n",
       "<style scoped>\n",
       "    .dataframe tbody tr th:only-of-type {\n",
       "        vertical-align: middle;\n",
       "    }\n",
       "\n",
       "    .dataframe tbody tr th {\n",
       "        vertical-align: top;\n",
       "    }\n",
       "\n",
       "    .dataframe thead th {\n",
       "        text-align: right;\n",
       "    }\n",
       "</style>\n",
       "<table border=\"1\" class=\"dataframe\">\n",
       "  <thead>\n",
       "    <tr style=\"text-align: right;\">\n",
       "      <th></th>\n",
       "      <th>obs</th>\n",
       "    </tr>\n",
       "    <tr>\n",
       "      <th>recordedBy</th>\n",
       "      <th></th>\n",
       "    </tr>\n",
       "  </thead>\n",
       "  <tbody>\n",
       "    <tr>\n",
       "      <th>Michel Goulet</th>\n",
       "      <td>8632</td>\n",
       "    </tr>\n",
       "    <tr>\n",
       "      <th>François Plourde - Renard frak</th>\n",
       "      <td>7542</td>\n",
       "    </tr>\n",
       "    <tr>\n",
       "      <th>canouquebec</th>\n",
       "      <td>7446</td>\n",
       "    </tr>\n",
       "    <tr>\n",
       "      <th>Serge Benoit</th>\n",
       "      <td>5746</td>\n",
       "    </tr>\n",
       "    <tr>\n",
       "      <th>Frederic Desmeules</th>\n",
       "      <td>4116</td>\n",
       "    </tr>\n",
       "    <tr>\n",
       "      <th>ornitholarocque</th>\n",
       "      <td>3980</td>\n",
       "    </tr>\n",
       "    <tr>\n",
       "      <th>Katherine Collin</th>\n",
       "      <td>3590</td>\n",
       "    </tr>\n",
       "    <tr>\n",
       "      <th>sparent66</th>\n",
       "      <td>3449</td>\n",
       "    </tr>\n",
       "    <tr>\n",
       "      <th>trejdil</th>\n",
       "      <td>3098</td>\n",
       "    </tr>\n",
       "    <tr>\n",
       "      <th>Fabian Orozco</th>\n",
       "      <td>2592</td>\n",
       "    </tr>\n",
       "    <tr>\n",
       "      <th>robert_thibault</th>\n",
       "      <td>2444</td>\n",
       "    </tr>\n",
       "    <tr>\n",
       "      <th>Stephane Le Tirant</th>\n",
       "      <td>2213</td>\n",
       "    </tr>\n",
       "    <tr>\n",
       "      <th>APDP</th>\n",
       "      <td>2089</td>\n",
       "    </tr>\n",
       "    <tr>\n",
       "      <th>inspector_crow</th>\n",
       "      <td>1885</td>\n",
       "    </tr>\n",
       "    <tr>\n",
       "      <th>Philippe Hénault</th>\n",
       "      <td>1747</td>\n",
       "    </tr>\n",
       "  </tbody>\n",
       "</table>\n",
       "</div>"
      ],
      "text/plain": [
       "                                 obs\n",
       "recordedBy                          \n",
       "Michel Goulet                   8632\n",
       "François Plourde - Renard frak  7542\n",
       "canouquebec                     7446\n",
       "Serge Benoit                    5746\n",
       "Frederic Desmeules              4116\n",
       "ornitholarocque                 3980\n",
       "Katherine Collin                3590\n",
       "sparent66                       3449\n",
       "trejdil                         3098\n",
       "Fabian Orozco                   2592\n",
       "robert_thibault                 2444\n",
       "Stephane Le Tirant              2213\n",
       "APDP                            2089\n",
       "inspector_crow                  1885\n",
       "Philippe Hénault                1747"
      ]
     },
     "execution_count": 21,
     "metadata": {},
     "output_type": "execute_result"
    }
   ],
   "source": [
    "df_user = df.groupby(['recordedBy']).agg(obs = ('gbifID', 'nunique')).sort_values('obs', ascending= False)\n",
    "top_observers = df_user.index[0:15]\n",
    "df_user.head(15)\n"
   ]
  },
  {
   "cell_type": "code",
   "execution_count": null,
   "id": "cf052968",
   "metadata": {},
   "outputs": [
    {
     "name": "stdout",
     "output_type": "stream",
     "text": [
      "            gbifID  decimalLatitude  decimalLongitude\n",
      "6738    4162317541        45.470892        -73.934855\n",
      "6781    4924166647        45.467627        -73.934016\n",
      "6825    3961399283        45.470659        -73.936636\n",
      "6832    3988531278        45.464842        -73.925885\n",
      "6853    4954585947        45.470798        -73.931758\n",
      "...            ...              ...               ...\n",
      "199755  5134278806        45.469776        -73.931720\n",
      "199761  5231788209        45.471660        -73.934287\n",
      "199773  5008332664        45.472016        -73.927797\n",
      "199905  3902234778        45.495163        -73.847535\n",
      "199910  3892647246        45.471524        -73.931679\n",
      "\n",
      "[8632 rows x 3 columns]\n"
     ]
    }
   ],
   "source": [
    "for idx, obs in enumerate(top_observers):\n",
    "    if idx == 1:\n",
    "        break\n",
    "    df_obs = df.loc[df.recordedBy == obs, ['gbifID', 'decimalLatitude', 'decimalLongitude']]\n",
    "    \n",
    "    print(df_obs)    \n",
    "    "
   ]
  },
  {
   "cell_type": "code",
   "execution_count": 12,
   "id": "b7fcfc0f",
   "metadata": {},
   "outputs": [],
   "source": [
    "con.close()"
   ]
  }
 ],
 "metadata": {
  "kernelspec": {
   "display_name": "mtlParkBiodiversity",
   "language": "python",
   "name": "python3"
  },
  "language_info": {
   "codemirror_mode": {
    "name": "ipython",
    "version": 3
   },
   "file_extension": ".py",
   "mimetype": "text/x-python",
   "name": "python",
   "nbconvert_exporter": "python",
   "pygments_lexer": "ipython3",
   "version": "3.11.13"
  }
 },
 "nbformat": 4,
 "nbformat_minor": 5
}
