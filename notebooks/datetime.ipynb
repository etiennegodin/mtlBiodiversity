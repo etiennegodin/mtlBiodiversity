{
 "cells": [
  {
   "cell_type": "code",
   "execution_count": 28,
   "id": "4db133cf",
   "metadata": {},
   "outputs": [],
   "source": [
    "\n",
    "import duckdb\n",
    "file = \"C:/Users/manat/Documents/Projects/mtlBiodiversity/data/db/mtlbio.duckdb\"\n",
    "import pandas as pd\n",
    "import seaborn as sns\n",
    "import matplotlib.pyplot as plt\n",
    "import numpy as np\n",
    "from sklearn.cluster import DBSCAN, HDBSCAN\n",
    "from datetime import datetime, date"
   ]
  },
  {
   "cell_type": "code",
   "execution_count": 5,
   "id": "34941660",
   "metadata": {},
   "outputs": [],
   "source": [
    "con = duckdb.connect(file)\n",
    "df = con.execute(\"SELECT * from gbif_raw\").df()\n"
   ]
  },
  {
   "cell_type": "code",
   "execution_count": null,
   "id": "d3cb624b",
   "metadata": {},
   "outputs": [],
   "source": [
    "# Function to convert string to datetime\n",
    "def create_datetime(row):\n",
    "    from datetime import date\n",
    "    x = f\"{row.year}-{str(row.month).rjust(2, '0')}-{str(row.day).rjust(2, '0')}\"\n",
    "    x = date.fromisoformat(x)\n",
    "    return x"
   ]
  },
  {
   "cell_type": "code",
   "execution_count": 35,
   "id": "a8adf3f3",
   "metadata": {},
   "outputs": [],
   "source": [
    "df['datetime'] = df.apply(create_datetime, axis= 1)"
   ]
  },
  {
   "cell_type": "code",
   "execution_count": null,
   "id": "d5cb5807",
   "metadata": {},
   "outputs": [
    {
     "name": "stdout",
     "output_type": "stream",
     "text": [
      "1873-07-12 2025-09-18 55585 days, 0:00:00\n"
     ]
    }
   ],
   "source": [
    "max = df.datetime.max()\n",
    "min = df.datetime.min()\n",
    "spread = max - min \n",
    "print(min,max,spread)\n"
   ]
  },
  {
   "cell_type": "code",
   "execution_count": 40,
   "id": "06edd232",
   "metadata": {},
   "outputs": [],
   "source": [
    "con.close()"
   ]
  }
 ],
 "metadata": {
  "kernelspec": {
   "display_name": "mtlParkBiodiversity",
   "language": "python",
   "name": "python3"
  },
  "language_info": {
   "codemirror_mode": {
    "name": "ipython",
    "version": 3
   },
   "file_extension": ".py",
   "mimetype": "text/x-python",
   "name": "python",
   "nbconvert_exporter": "python",
   "pygments_lexer": "ipython3",
   "version": "3.11.13"
  }
 },
 "nbformat": 4,
 "nbformat_minor": 5
}
