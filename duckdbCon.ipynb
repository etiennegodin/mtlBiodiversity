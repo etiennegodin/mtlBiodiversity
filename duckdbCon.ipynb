{
 "cells": [
  {
   "cell_type": "code",
   "execution_count": 1,
   "id": "b49b3632",
   "metadata": {},
   "outputs": [
    {
     "data": {
      "text/plain": [
       "<mtlBio.core.DuckDBConnection at 0x18aa2a67c90>"
      ]
     },
     "execution_count": 1,
     "metadata": {},
     "output_type": "execute_result"
    }
   ],
   "source": [
    "from mtlBio.core import DuckDBConnection\n",
    "\n",
    "DuckDBConnection(\"data/db/mtlBio.duckdb\")"
   ]
  }
 ],
 "metadata": {
  "kernelspec": {
   "display_name": "mtlParkBiodiversity",
   "language": "python",
   "name": "python3"
  },
  "language_info": {
   "codemirror_mode": {
    "name": "ipython",
    "version": 3
   },
   "file_extension": ".py",
   "mimetype": "text/x-python",
   "name": "python",
   "nbconvert_exporter": "python",
   "pygments_lexer": "ipython3",
   "version": "3.11.13"
  }
 },
 "nbformat": 4,
 "nbformat_minor": 5
}
